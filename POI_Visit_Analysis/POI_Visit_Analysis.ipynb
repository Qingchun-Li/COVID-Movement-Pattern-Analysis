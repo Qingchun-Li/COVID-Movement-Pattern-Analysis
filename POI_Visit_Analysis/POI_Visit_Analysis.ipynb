{
 "cells": [
  {
   "cell_type": "code",
   "execution_count": 2,
   "metadata": {},
   "outputs": [],
   "source": [
    "import os\n",
    "import pandas as pd\n",
    "import csv\n",
    "import matplotlib.pyplot as plt\n",
    "import networkx as nx\n",
    "import pickle\n",
    "import numpy as np\n",
    "import matplotlib as mpl\n",
    "import seaborn as sns \n",
    "import json\n",
    "from networkx.drawing.nx_agraph import graphviz_layout\n",
    "import geopandas as gpd\n",
    "from shapely import wkt\n",
    "from shapely.geometry import Point\n",
    "from shapely.geometry import Polygon\n",
    "from keplergl import KeplerGl\n",
    "from collections import Counter"
   ]
  },
  {
   "cell_type": "code",
   "execution_count": 3,
   "metadata": {},
   "outputs": [],
   "source": [
    "path_harvey = '/Users/liqingchun/Google Drive/Dissertation/Dataset/Safegraph Data/SafeGraph Raw Data/'\n",
    "path_network = '/Users/liqingchun/Google Drive/Dissertation/Dataset/Safegraph Data/SafeGraph Raw Data/OD_network/'\n",
    "path_core = '/Users/liqingchun/Google Drive/Dissertation/Dataset/Safegraph Data/Safegraph Core data/CorePlacesMay2020Release-CORE_POI-2020_04-2020-05-06/'\n",
    "path_census = '/Users/liqingchun/Google Drive/Dissertation/Dataset/Safegraph Data/safegraph_open_census_data/metadata/'"
   ]
  },
  {
   "cell_type": "code",
   "execution_count": 4,
   "metadata": {},
   "outputs": [],
   "source": [
    "os.chdir(path_census)\n",
    "with open('census_geo.pkl', 'rb') as file:\n",
    "    census = pickle.load(file)"
   ]
  },
  {
   "cell_type": "code",
   "execution_count": 5,
   "metadata": {},
   "outputs": [],
   "source": [
    "os.chdir(path_core)\n",
    "with open('core_pickle.pkl', 'rb') as file:\n",
    "    core = pickle.load(file)"
   ]
  },
  {
   "cell_type": "code",
   "execution_count": 14,
   "metadata": {},
   "outputs": [],
   "source": [
    "def Hotspots_category(file, name, path=path_network):\n",
    "    os.chdir(path)\n",
    "    with open(file, 'rb') as file:\n",
    "        safegraph_id = pickle.load(file)\n",
    "        \n",
    "    safegraph_id = safegraph_id.drop(['cbg_latitude', 'cbg_longitude'], axis=1).merge(census, on=['cbg'])\n",
    "    safegraph_id = safegraph_id.merge(core[['safegraph_place_id', 'top_category']], on=['safegraph_place_id'])\n",
    "    safegraph_id.to_csv(name+'_network_information.csv')\n",
    "    hotspots_category_list = list(safegraph_id[safegraph_id.hotspot_destination == True].top_category)\n",
    "        \n",
    "    cate_dict = Counter(hotspots_category_list)\n",
    "    top_5 = sorted(cate_dict.items(), key=lambda kv: kv[1], reverse=True)\n",
    "    \n",
    "    with open(name+'.csv', 'w', newline='') as csvfile:\n",
    "        list_writer = csv.writer(csvfile)\n",
    "        for each in top_5:\n",
    "            list_writer.writerow(each)"
   ]
  },
  {
   "cell_type": "code",
   "execution_count": 82,
   "metadata": {},
   "outputs": [],
   "source": [
    "Hotspots_category('2020-04-27-san jose-cbg-home-poi-visits-network.pkl', 'san_jose_0427', path=path_network+'san jose/dataframes/')"
   ]
  },
  {
   "cell_type": "code",
   "execution_count": 43,
   "metadata": {},
   "outputs": [],
   "source": [
    "def Hotspots_visit_category(file, name, path=path_network):\n",
    "    os.chdir(path)\n",
    "    with open(file, 'rb') as file:\n",
    "        safegraph_id = pickle.load(file)\n",
    "        \n",
    "    safegraph_id = safegraph_id.merge(core[['safegraph_place_id', 'top_category']], on=['safegraph_place_id'])\n",
    "    safegraph_id = safegraph_id[safegraph_id.hotspot_destination == True]\n",
    "    category_visit = safegraph_id.groupby('top_category').sum().sort_values(\"visits\",inplace=False, ascending=False)\n",
    "    category_visit = category_visit[['visits']]\n",
    "    category_visit.to_csv(name+'_visits.csv', header=False)\n",
    "  "
   ]
  },
  {
   "cell_type": "code",
   "execution_count": 114,
   "metadata": {},
   "outputs": [],
   "source": [
    "Hotspots_visit_category('2020-04-27-san jose-cbg-home-poi-visits-network.pkl', 'san jose_0427', path=path_network+'san jose/dataframes/')"
   ]
  },
  {
   "cell_type": "code",
   "execution_count": null,
   "metadata": {},
   "outputs": [],
   "source": []
  }
 ],
 "metadata": {
  "kernelspec": {
   "display_name": "Python 3",
   "language": "python",
   "name": "python3"
  },
  "language_info": {
   "codemirror_mode": {
    "name": "ipython",
    "version": 3
   },
   "file_extension": ".py",
   "mimetype": "text/x-python",
   "name": "python",
   "nbconvert_exporter": "python",
   "pygments_lexer": "ipython3",
   "version": "3.6.10"
  }
 },
 "nbformat": 4,
 "nbformat_minor": 2
}
