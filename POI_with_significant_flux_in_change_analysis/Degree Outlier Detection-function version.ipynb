{
 "cells": [
  {
   "cell_type": "code",
   "execution_count": 1,
   "metadata": {},
   "outputs": [],
   "source": [
    "import os\n",
    "import pandas as pd\n",
    "import csv\n",
    "import matplotlib.pyplot as plt\n",
    "import networkx as nx\n",
    "import pickle\n",
    "import numpy as np\n",
    "import matplotlib as mpl\n",
    "import seaborn as sns \n",
    "import json\n",
    "from networkx.drawing.nx_agraph import graphviz_layout\n",
    "import geopandas as gpd\n",
    "from shapely import wkt\n",
    "from shapely.geometry import Point\n",
    "from shapely.geometry import Polygon\n",
    "from keplergl import KeplerGl\n",
    "from statsmodels.tsa.stattools import adfuller\n",
    "from statsmodels.graphics.tsaplots import plot_acf, plot_pacf\n",
    "import statistics \n",
    "from scipy.stats import chi2\n",
    "from statsmodels.stats.multitest import multipletests\n",
    "from collections import Counter"
   ]
  },
  {
   "cell_type": "markdown",
   "metadata": {},
   "source": [
    "# Set Path for data"
   ]
  },
  {
   "cell_type": "code",
   "execution_count": 4,
   "metadata": {},
   "outputs": [],
   "source": [
    "path_harvey = '/Users/liqingchun/Google Drive/Dissertation/Dataset/Safegraph Data/SafeGraph Raw Data/'\n",
    "path_network = '/Users/liqingchun/Google Drive/Dissertation/Dataset/Safegraph Data/SafeGraph Raw Data/OD_network/'\n",
    "path_core = '/Users/liqingchun/Google Drive/Dissertation/Dataset/Safegraph Data/Safegraph Core data/CorePlacesMay2020Release-CORE_POI-2020_04-2020-05-06/'\n",
    "path_census = '/Users/liqingchun/Google Drive/Dissertation/Dataset/Safegraph Data/safegraph_open_census_data/metadata/'\n",
    "plt.style.use('classic')"
   ]
  },
  {
   "cell_type": "markdown",
   "metadata": {},
   "source": [
    "## Read Network Pickle"
   ]
  },
  {
   "cell_type": "code",
   "execution_count": 5,
   "metadata": {},
   "outputs": [],
   "source": [
    "os.chdir(path_core)\n",
    "with open('core_pickle.pkl', 'rb') as file:\n",
    "    geo_id = pickle.load(file)\n",
    "\n",
    "geo_id = geo_id[['safegraph_place_id', 'top_category','brands', 'latitude', 'longitude']]"
   ]
  },
  {
   "cell_type": "code",
   "execution_count": 6,
   "metadata": {},
   "outputs": [],
   "source": [
    "os.chdir(path_census)\n",
    "with open('census_geo.pkl', 'rb') as file:\n",
    "    census = pickle.load(file)"
   ]
  },
  {
   "cell_type": "markdown",
   "metadata": {},
   "source": [
    "## Function"
   ]
  },
  {
   "cell_type": "code",
   "execution_count": 7,
   "metadata": {},
   "outputs": [],
   "source": [
    "def Degree_var(pick1, pick2, path=path_network):\n",
    "    ##read pickle data\n",
    "    os.chdir(path)\n",
    "    with open(pick1, 'rb') as file:\n",
    "        df1 = pickle.load(file)\n",
    "    with open(pick2, 'rb') as file:\n",
    "        df2 = pickle.load(file)\n",
    "        \n",
    "    #read id and cbg data\n",
    "    flux_in_1 = df1[['safegraph_place_id', 'visits']]\n",
    "    flux_in_2 = df2[['safegraph_place_id', 'visits']]\n",
    "    \n",
    "    flux_out_1 = df1[['cbg', 'visits']]\n",
    "    flux_out_2 = df2[['cbg', 'visits']]\n",
    "    \n",
    "    #get weighted node degree centrality\n",
    "    flux_in_1 = flux_in_1.groupby(['safegraph_place_id']).sum().reset_index(drop=False)\n",
    "    flux_in_2 = flux_in_2.groupby(['safegraph_place_id']).sum().reset_index(drop=False)\n",
    "    \n",
    "    flux_out_1 = flux_out_1.groupby(['cbg']).sum().reset_index(drop=False)\n",
    "    flux_out_2 = flux_out_2.groupby(['cbg']).sum().reset_index(drop=False)\n",
    "    \n",
    "    #get total ID and total cbg\n",
    "    total_id = set(list(flux_in_1.safegraph_place_id) + list(flux_in_2.safegraph_place_id))\n",
    "    total_cbg = set(list(flux_out_1.cbg) + list(flux_out_2.cbg))\n",
    "    \n",
    "    ##generate df with same nodes\n",
    "    for each in total_id:\n",
    "        if each not in set(flux_in_1.safegraph_place_id):\n",
    "            flux_in_1 = flux_in_1.append({'safegraph_place_id': each, 'visits':0}, ignore_index=True)\n",
    "        elif each not in set(flux_in_2.safegraph_place_id):\n",
    "            flux_in_2 = flux_in_2.append({'safegraph_place_id': each, 'visits':0}, ignore_index=True)\n",
    "    for each in total_cbg:\n",
    "        if each not in set(flux_out_1.cbg):\n",
    "            flux_out_1 = flux_out_1.append({'cbg': each, 'visits':0}, ignore_index=True)\n",
    "        elif each not in set(flux_out_2.cbg):\n",
    "            flux_out_2 = flux_out_2.append({'cbg': each, 'visits':0}, ignore_index=True)\n",
    "            \n",
    "    ##reorder, make the nodes of different momnents have the same order\n",
    "    flux_in_1.sort_values(\"safegraph_place_id\",inplace=True)\n",
    "    flux_in_2.sort_values(\"safegraph_place_id\",inplace=True)\n",
    "    flux_out_1.sort_values(\"cbg\",inplace=True)\n",
    "    flux_out_2.sort_values(\"cbg\",inplace=True)\n",
    "    \n",
    "    ##change pandas to array\n",
    "    flux_in_1 = flux_in_1.to_numpy()\n",
    "    flux_in_2 = flux_in_2.to_numpy()\n",
    "    flux_out_1 = flux_out_1.to_numpy()\n",
    "    flux_out_2 = flux_out_2.to_numpy()\n",
    "    \n",
    "    ##difference between in-degrees\n",
    "    dist_list_in = []\n",
    "    for each in range(len(flux_in_1)):\n",
    "        dist_list_in.append((np.linalg.norm(flux_in_1[each][1]-flux_in_2[each][1]))**2)\n",
    "    mean_list_in = statistics.mean(dist_list_in)\n",
    "    Z_list_in = np.array(dist_list_in)/mean_list_in\n",
    "    ##chi-square test\n",
    "    #dist_dict_in = {}\n",
    "    chi_test_in = 1 - chi2.cdf(Z_list_in, df=1) ## chi-square test\n",
    "    chi_test_adjust_in = multipletests(chi_test_in, alpha=0.1, method='fdr_bh')\n",
    "    #for each in range(len(flux_in_1)):\n",
    "        #dist_dict_in[flux_in_1[each][0]] = chi_test_adjust[1][each]\n",
    "    data_in = {'safegraph_place_id':flux_in_1[:,0], 'pValue':np.array(chi_test_adjust_in[1])}\n",
    "    id_var = pd.DataFrame(data_in)\n",
    "    \n",
    "     ##difference between out-degrees\n",
    "    dist_list_out = []\n",
    "    for each in range(len(flux_out_1)):\n",
    "        dist_list_out.append((np.linalg.norm(flux_out_1[each][1]-flux_out_2[each][1]))**2)\n",
    "    mean_list_out = statistics.mean(dist_list_out)\n",
    "    Z_list_out = np.array(dist_list_out)/mean_list_out\n",
    "    ##chi-square test\n",
    "    #dist_dict_out = {}\n",
    "    chi_test_out = 1 - chi2.cdf(Z_list_out, df=1) ## chi-square test\n",
    "    chi_test_adjust_out = multipletests(chi_test_out, alpha=0.1, method='fdr_bh')\n",
    "    #for each in range(len(flux_in_1)):\n",
    "        #dist_dict_in[flux_in_1[each][0]] = chi_test_adjust[1][each]\n",
    "    data_out = {'cbg':flux_out_1[:,0], 'pValue':np.array(chi_test_adjust_out[1])}\n",
    "    cbg_var = pd.DataFrame(data_out)\n",
    "    \n",
    "    return (id_var, cbg_var, total_id, total_cbg)"
   ]
  },
  {
   "cell_type": "code",
   "execution_count": 29,
   "metadata": {},
   "outputs": [],
   "source": [
    "def Save_results(results, sub_path='new york/dataframes/', date='05-01'):\n",
    "    Safegraph_id = results[0][results[0].pValue <= 0.01]\n",
    "    cbg = results[1][results[1].pValue <= 0.01]\n",
    "    Safegraph_id_merge = Safegraph_id.merge(geo_id, on=['safegraph_place_id'])\n",
    "    os.chdir(path_network+sub_path)\n",
    "    Safegraph_id_merge.to_csv('id_data_out_'+date+'.csv', index=False)\n",
    "    \n",
    "    \n",
    "    category = list(Safegraph_id_merge.top_category)\n",
    "    cate_dict = Counter(category)\n",
    "\n",
    "    sorted_category = sorted(cate_dict.items(), key=lambda kv: kv[1], reverse=True)\n",
    "    with open(date+'_ID_category_with_significant_change.csv', 'w', newline='') as csvfile:\n",
    "        list_writer = csv.writer(csvfile)\n",
    "        for each in sorted_category:\n",
    "            list_writer.writerow(each)\n",
    "        list_writer.writerow(('Total number of POIs with significant change', len(Safegraph_id_merge)))\n",
    "        list_writer.writerow(('Total number of POIs', len(results[2])))\n",
    "        list_writer.writerow(('Miss value', len(Safegraph_id)-len(Safegraph_id_merge)))\n",
    "        \n",
    "    with open(date+'_cbg_with_significant_change.csv', 'w', newline='') as csvfile:\n",
    "        list_writer = csv.writer(csvfile)\n",
    "        for each in cbg.to_numpy():\n",
    "            list_writer.writerow(each)\n",
    "        list_writer.writerow(('Total number of cbgs with significant change', len(cbg)))\n",
    "        list_writer.writerow(('Total number of cbgs', len(results[3])))"
   ]
  },
  {
   "cell_type": "code",
   "execution_count": 175,
   "metadata": {},
   "outputs": [],
   "source": [
    "results = Degree_var('2020-01-13-seattle-cbg-home-poi-visits-network.pkl', '2020-04-27-seattle-cbg-home-poi-visits-network.pkl', path=path_network+'seattle/dataframes/')"
   ]
  },
  {
   "cell_type": "code",
   "execution_count": 176,
   "metadata": {},
   "outputs": [],
   "source": [
    "Save_results(results, sub_path='seattle/dataframes/', date='04-27_new')"
   ]
  },
  {
   "cell_type": "code",
   "execution_count": null,
   "metadata": {},
   "outputs": [],
   "source": []
  },
  {
   "cell_type": "code",
   "execution_count": null,
   "metadata": {},
   "outputs": [],
   "source": [
    "category = list(Safegraph_id_merge.top_category)"
   ]
  },
  {
   "cell_type": "code",
   "execution_count": null,
   "metadata": {},
   "outputs": [],
   "source": [
    "cate_dict = Counter(category)\n",
    "\n",
    "sorted_category = sorted(cate_dict.items(), key=lambda kv: kv[1], reverse=True)\n",
    "os.chdir(path_network+'new york/dataframes/')\n",
    "with open('05-11_ID_category_with_significant_change.csv', 'w', newline='') as csvfile:\n",
    "    list_writer = csv.writer(csvfile)\n",
    "    for each in sorted_category:\n",
    "        list_writer.writerow(each)\n",
    "    list_writer.writerow(('Total number of POIs with significant change', len(Safegraph_id_merge)))\n",
    "    list_writer.writerow(('Total number of POIs', len(results[2])))\n",
    "    list_writer.writerow(('Miss value', len(Safegraph_id)-len(Safegraph_id_merge)))"
   ]
  },
  {
   "cell_type": "code",
   "execution_count": null,
   "metadata": {},
   "outputs": [],
   "source": [
    "with open('05-11_cbg_with_significant_change.csv', 'w', newline='') as csvfile:\n",
    "    list_writer = csv.writer(csvfile)\n",
    "    for each in cbg.to_numpy():\n",
    "        list_writer.writerow(each)\n",
    "    list_writer.writerow(('Total number of cbgs with significant change', len(cbg)))\n",
    "    list_writer.writerow(('Total number of cbgs', len(results[3])))"
   ]
  },
  {
   "cell_type": "code",
   "execution_count": null,
   "metadata": {
    "scrolled": true
   },
   "outputs": [],
   "source": [
    "map_1 = KeplerGl(height=400)\n",
    "map_1"
   ]
  },
  {
   "cell_type": "code",
   "execution_count": null,
   "metadata": {},
   "outputs": [],
   "source": [
    "map_1.add_data(data=Safegraph_id_merge, name='data_1')"
   ]
  },
  {
   "cell_type": "code",
   "execution_count": null,
   "metadata": {},
   "outputs": [],
   "source": [
    "cbg_merge = cbg.merge(census, on=['cbg'])"
   ]
  },
  {
   "cell_type": "code",
   "execution_count": null,
   "metadata": {},
   "outputs": [],
   "source": [
    "map_1.add_data(data=cbg_merge, name='data_2')"
   ]
  },
  {
   "cell_type": "code",
   "execution_count": null,
   "metadata": {},
   "outputs": [],
   "source": [
    "os.chdir(path_network)\n",
    "map_1.save_to_html(file_name='houston_map.html')"
   ]
  },
  {
   "cell_type": "code",
   "execution_count": null,
   "metadata": {},
   "outputs": [],
   "source": [
    "len(Safegraph_id_merge)"
   ]
  },
  {
   "cell_type": "code",
   "execution_count": null,
   "metadata": {},
   "outputs": [],
   "source": [
    "len(Safegraph_id)"
   ]
  },
  {
   "cell_type": "code",
   "execution_count": null,
   "metadata": {},
   "outputs": [],
   "source": [
    "len(cbg_merge)"
   ]
  },
  {
   "cell_type": "code",
   "execution_count": null,
   "metadata": {},
   "outputs": [],
   "source": [
    "len(results[2])"
   ]
  },
  {
   "cell_type": "code",
   "execution_count": null,
   "metadata": {},
   "outputs": [],
   "source": [
    "len(results[3])"
   ]
  },
  {
   "cell_type": "code",
   "execution_count": 132,
   "metadata": {},
   "outputs": [],
   "source": [
    "os.chdir(path_network)\n",
    "with open('./seattle/dataframes/2019-12-30-seattle-cbg-home-poi-visits-network.pkl', 'rb') as file:\n",
    "    df1_newyork = pickle.load(file)"
   ]
  },
  {
   "cell_type": "code",
   "execution_count": 133,
   "metadata": {},
   "outputs": [],
   "source": [
    "with open('./seattle/dataframes/2020-04-27-seattle-cbg-home-poi-visits-network.pkl', 'rb') as file:\n",
    "    df2_newyork = pickle.load(file)"
   ]
  },
  {
   "cell_type": "code",
   "execution_count": 134,
   "metadata": {},
   "outputs": [],
   "source": [
    "df1_newyork_hotspots = df1_newyork[df1_newyork.hotspot_destination==True]"
   ]
  },
  {
   "cell_type": "code",
   "execution_count": 135,
   "metadata": {},
   "outputs": [],
   "source": [
    "df2_newyork_hotspots = df2_newyork[df2_newyork.hotspot_destination==True]"
   ]
  },
  {
   "cell_type": "code",
   "execution_count": 136,
   "metadata": {},
   "outputs": [],
   "source": [
    "df1_newyork_hotspots = df1_newyork_hotspots.merge(geo_id, on=['safegraph_place_id'])"
   ]
  },
  {
   "cell_type": "code",
   "execution_count": 137,
   "metadata": {},
   "outputs": [],
   "source": [
    "df2_newyork_hotspots = df2_newyork_hotspots.merge(geo_id,on=['safegraph_place_id'])"
   ]
  },
  {
   "cell_type": "code",
   "execution_count": 138,
   "metadata": {},
   "outputs": [],
   "source": [
    "df1_cate = Counter(list(df1_newyork_hotspots.top_category))"
   ]
  },
  {
   "cell_type": "code",
   "execution_count": 139,
   "metadata": {},
   "outputs": [],
   "source": [
    "df2_cate = Counter(list(df2_newyork_hotspots.top_category))"
   ]
  },
  {
   "cell_type": "code",
   "execution_count": 140,
   "metadata": {},
   "outputs": [
    {
     "data": {
      "text/plain": [
       "[('Restaurants and Other Eating Places', 1303),\n",
       " ('Museums, Historical Sites, and Similar Institutions', 533),\n",
       " ('Other Amusement and Recreation Industries', 316),\n",
       " ('Grocery Stores', 120),\n",
       " ('Sporting Goods, Hobby, and Musical Instrument Stores', 113),\n",
       " ('Health and Personal Care Stores', 105),\n",
       " ('Traveler Accommodation', 100),\n",
       " ('Gasoline Stations', 93),\n",
       " ('Other Miscellaneous Store Retailers', 62),\n",
       " ('Elementary and Secondary Schools', 58),\n",
       " ('Clothing Stores', 57),\n",
       " ('Child Day Care Services', 53),\n",
       " ('Religious Organizations', 53),\n",
       " ('Building Material and Supplies Dealers', 47),\n",
       " ('Used Merchandise Stores', 41),\n",
       " ('Office Supplies, Stationery, and Gift Stores', 38),\n",
       " ('Offices of Other Health Practitioners', 37),\n",
       " ('Offices of Physicians', 35),\n",
       " ('Lessors of Real Estate', 31),\n",
       " ('Book Stores and News Dealers', 30),\n",
       " ('Offices of Dentists', 29),\n",
       " ('Personal Care Services', 25),\n",
       " ('Electronics and Appliance Stores', 24),\n",
       " ('Building Equipment Contractors', 24),\n",
       " ('Drinking Places (Alcoholic Beverages)', 24),\n",
       " ('Automobile Dealers', 23),\n",
       " ('Florists', 21),\n",
       " ('Other Personal Services', 19),\n",
       " ('General Merchandise Stores, including Warehouse Clubs and Supercenters',\n",
       "  19),\n",
       " ('Specialty Food Stores', 18),\n",
       " ('Home Health Care Services', 17),\n",
       " ('Automotive Parts, Accessories, and Tire Stores', 16),\n",
       " ('Beverage Manufacturing', 16),\n",
       " ('Continuing Care Retirement Communities and Assisted Living Facilities for the Elderly',\n",
       "  16),\n",
       " ('General Medical and Surgical Hospitals', 16),\n",
       " ('Other Information Services', 15),\n",
       " ('Automotive Repair and Maintenance', 15),\n",
       " ('Depository Credit Intermediation', 15),\n",
       " ('Jewelry, Luggage, and Leather Goods Stores', 14),\n",
       " ('Other Professional, Scientific, and Technical Services', 13),\n",
       " ('Colleges, Universities, and Professional Schools', 12),\n",
       " ('Other Motor Vehicle Dealers', 12),\n",
       " ('Home Furnishings Stores', 11),\n",
       " ('Beer, Wine, and Liquor Stores', 10),\n",
       " ('Furniture Stores', 10),\n",
       " ('Department Stores', 10),\n",
       " ('Outpatient Care Centers', 10),\n",
       " ('Motion Picture and Video Industries', 8),\n",
       " ('Medical and Diagnostic Laboratories', 8),\n",
       " ('Bakeries and Tortilla Manufacturing', 7),\n",
       " ('Amusement Parks and Arcades', 6),\n",
       " ('Waste Treatment and Disposal', 6),\n",
       " (\"Drugs and Druggists' Sundries Merchant Wholesalers\", 6),\n",
       " ('Automotive Equipment Rental and Leasing', 5),\n",
       " ('Spectator Sports', 5),\n",
       " ('Individual and Family Services', 5),\n",
       " ('Personal and Household Goods Repair and Maintenance', 5),\n",
       " ('Justice, Public Order, and Safety Activities', 5),\n",
       " ('Executive, Legislative, and Other General Government Support', 5),\n",
       " ('Gambling Industries', 4),\n",
       " ('Agencies, Brokerages, and Other Insurance Related Activities', 4),\n",
       " ('Junior Colleges', 4),\n",
       " ('Rail Transportation', 4),\n",
       " ('Shoe Stores', 4),\n",
       " ('Support Activities for Road Transportation', 3),\n",
       " ('Accounting, Tax Preparation, Bookkeeping, and Payroll Services', 3),\n",
       " ('RV (Recreational Vehicle) Parks and Recreational Camps', 3),\n",
       " ('Postal Service', 3),\n",
       " ('Couriers and Express Delivery Services', 3),\n",
       " ('Other Schools and Instruction', 3),\n",
       " ('Wired and Wireless Telecommunications Carriers', 3),\n",
       " ('Hardware, and Plumbing and Heating Equipment and Supplies Merchant Wholesalers',\n",
       "  2),\n",
       " ('Printing and Related Support Activities', 2),\n",
       " ('Drycleaning and Laundry Services', 2),\n",
       " ('Other Financial Investment Activities', 2),\n",
       " ('Services to Buildings and Dwellings', 2),\n",
       " ('Nursing Care Facilities (Skilled Nursing Facilities)', 1),\n",
       " ('Other Leather and Allied Product Manufacturing', 1),\n",
       " ('Administration of Economic Programs', 1),\n",
       " ('Technical and Trade Schools', 1),\n",
       " ('Support Activities for Air Transportation', 1),\n",
       " ('Death Care Services', 1),\n",
       " ('Household Appliances and Electrical and Electronic Goods Merchant Wholesalers',\n",
       "  1),\n",
       " ('Grocery and Related Product Merchant Wholesalers', 1),\n",
       " ('Taxi and Limousine Service', 1),\n",
       " (nan, 1),\n",
       " ('Other Miscellaneous Manufacturing', 1),\n",
       " ('Warehousing and Storage', 1),\n",
       " ('Specialized Freight Trucking', 1),\n",
       " ('Miscellaneous Durable Goods Merchant Wholesalers', 1),\n",
       " ('Consumer Goods Rental', 1),\n",
       " (nan, 1),\n",
       " ('Employment Services', 1),\n",
       " ('Chemical and Allied Products Merchant Wholesalers', 1),\n",
       " ('Offices of Real Estate Agents and Brokers', 1),\n",
       " ('Freight Transportation Arrangement', 1),\n",
       " (nan, 1)]"
      ]
     },
     "execution_count": 140,
     "metadata": {},
     "output_type": "execute_result"
    }
   ],
   "source": [
    "sorted(df1_cate.items(), key=lambda kv: kv[1], reverse=True)"
   ]
  },
  {
   "cell_type": "code",
   "execution_count": 141,
   "metadata": {},
   "outputs": [
    {
     "data": {
      "text/plain": [
       "[('Restaurants and Other Eating Places', 446),\n",
       " ('Museums, Historical Sites, and Similar Institutions', 335),\n",
       " ('Other Amusement and Recreation Industries', 118),\n",
       " ('Grocery Stores', 73),\n",
       " ('Health and Personal Care Stores', 48),\n",
       " ('Gasoline Stations', 47),\n",
       " ('Sporting Goods, Hobby, and Musical Instrument Stores', 37),\n",
       " ('Offices of Physicians', 28),\n",
       " ('Building Material and Supplies Dealers', 27),\n",
       " ('Child Day Care Services', 26),\n",
       " ('Elementary and Secondary Schools', 25),\n",
       " ('Other Miscellaneous Store Retailers', 24),\n",
       " ('Lessors of Real Estate', 24),\n",
       " ('Traveler Accommodation', 19),\n",
       " ('Office Supplies, Stationery, and Gift Stores', 17),\n",
       " ('Used Merchandise Stores', 15),\n",
       " ('Clothing Stores', 15),\n",
       " ('Offices of Other Health Practitioners', 14),\n",
       " ('General Medical and Surgical Hospitals', 14),\n",
       " ('Other Motor Vehicle Dealers', 12),\n",
       " ('Religious Organizations', 12),\n",
       " ('Specialty Food Stores', 12),\n",
       " ('Personal Care Services', 12),\n",
       " ('Florists', 10),\n",
       " ('Book Stores and News Dealers', 10),\n",
       " ('Home Furnishings Stores', 10),\n",
       " ('Offices of Dentists', 9),\n",
       " ('Automobile Dealers', 9),\n",
       " ('Automotive Repair and Maintenance', 8),\n",
       " ('Justice, Public Order, and Safety Activities', 8),\n",
       " ('General Merchandise Stores, including Warehouse Clubs and Supercenters', 7),\n",
       " ('Depository Credit Intermediation', 7),\n",
       " ('Other Personal Services', 6),\n",
       " ('Amusement Parks and Arcades', 6),\n",
       " ('Automotive Parts, Accessories, and Tire Stores', 6),\n",
       " ('Jewelry, Luggage, and Leather Goods Stores', 6),\n",
       " ('Colleges, Universities, and Professional Schools', 5),\n",
       " ('Continuing Care Retirement Communities and Assisted Living Facilities for the Elderly',\n",
       "  5),\n",
       " ('Home Health Care Services', 5),\n",
       " ('Building Equipment Contractors', 5),\n",
       " ('Drinking Places (Alcoholic Beverages)', 5),\n",
       " ('Other Information Services', 4),\n",
       " ('Electronics and Appliance Stores', 4),\n",
       " ('Department Stores', 4),\n",
       " ('Furniture Stores', 4),\n",
       " ('Medical and Diagnostic Laboratories', 3),\n",
       " ('Agencies, Brokerages, and Other Insurance Related Activities', 3),\n",
       " ('Waste Treatment and Disposal', 3),\n",
       " ('Automotive Equipment Rental and Leasing', 3),\n",
       " ('Spectator Sports', 3),\n",
       " ('Beverage Manufacturing', 3),\n",
       " ('Rail Transportation', 3),\n",
       " ('Executive, Legislative, and Other General Government Support', 3),\n",
       " ('Services to Buildings and Dwellings', 3),\n",
       " ('Other Schools and Instruction', 2),\n",
       " ('Support Activities for Road Transportation', 2),\n",
       " ('Bakeries and Tortilla Manufacturing', 2),\n",
       " ('Personal and Household Goods Repair and Maintenance', 2),\n",
       " ('Outpatient Care Centers', 2),\n",
       " (\"Drugs and Druggists' Sundries Merchant Wholesalers\", 2),\n",
       " ('Postal Service', 2),\n",
       " ('Wired and Wireless Telecommunications Carriers', 2),\n",
       " ('Junior Colleges', 2),\n",
       " ('Printing and Related Support Activities', 2),\n",
       " ('Beer, Wine, and Liquor Stores', 2),\n",
       " ('Individual and Family Services', 1),\n",
       " ('Other Transit and Ground Passenger Transportation', 1),\n",
       " ('Data Processing, Hosting, and Related Services', 1),\n",
       " ('Drycleaning and Laundry Services', 1),\n",
       " ('Shoe Stores', 1),\n",
       " ('Commercial and Industrial Machinery and Equipment Rental and Leasing', 1),\n",
       " ('Motion Picture and Video Industries', 1),\n",
       " ('Support Activities for Air Transportation', 1),\n",
       " ('Death Care Services', 1),\n",
       " ('RV (Recreational Vehicle) Parks and Recreational Camps', 1),\n",
       " ('Building Finishing Contractors', 1),\n",
       " ('Employment Services', 1),\n",
       " ('Lumber and Other Construction Materials Merchant Wholesalers', 1),\n",
       " ('Gambling Industries', 1)]"
      ]
     },
     "execution_count": 141,
     "metadata": {},
     "output_type": "execute_result"
    }
   ],
   "source": [
    "sorted(df2_cate.items(), key=lambda kv: kv[1], reverse=True)"
   ]
  },
  {
   "cell_type": "code",
   "execution_count": 142,
   "metadata": {},
   "outputs": [
    {
     "data": {
      "text/plain": [
       "1606"
      ]
     },
     "execution_count": 142,
     "metadata": {},
     "output_type": "execute_result"
    }
   ],
   "source": [
    "len(list(df2_newyork_hotspots.top_category))"
   ]
  },
  {
   "cell_type": "code",
   "execution_count": 143,
   "metadata": {},
   "outputs": [
    {
     "data": {
      "text/plain": [
       "3822"
      ]
     },
     "execution_count": 143,
     "metadata": {},
     "output_type": "execute_result"
    }
   ],
   "source": [
    "len(list(df1_newyork_hotspots.top_category))"
   ]
  },
  {
   "cell_type": "code",
   "execution_count": 146,
   "metadata": {},
   "outputs": [],
   "source": [
    "df2_newyork_hotspots = df2_newyork_hotspots[['safegraph_place_id', 'top_category', 'visits']]"
   ]
  },
  {
   "cell_type": "code",
   "execution_count": 147,
   "metadata": {},
   "outputs": [],
   "source": [
    "df1_newyork_hotspots = df1_newyork_hotspots[['safegraph_place_id', 'top_category', 'visits']]"
   ]
  },
  {
   "cell_type": "code",
   "execution_count": 148,
   "metadata": {},
   "outputs": [
    {
     "data": {
      "text/html": [
       "<div>\n",
       "<style scoped>\n",
       "    .dataframe tbody tr th:only-of-type {\n",
       "        vertical-align: middle;\n",
       "    }\n",
       "\n",
       "    .dataframe tbody tr th {\n",
       "        vertical-align: top;\n",
       "    }\n",
       "\n",
       "    .dataframe thead th {\n",
       "        text-align: right;\n",
       "    }\n",
       "</style>\n",
       "<table border=\"1\" class=\"dataframe\">\n",
       "  <thead>\n",
       "    <tr style=\"text-align: right;\">\n",
       "      <th></th>\n",
       "      <th>top_category</th>\n",
       "      <th>visits</th>\n",
       "    </tr>\n",
       "  </thead>\n",
       "  <tbody>\n",
       "    <tr>\n",
       "      <th>44</th>\n",
       "      <td>Household Appliances and Electrical and Electr...</td>\n",
       "      <td>5</td>\n",
       "    </tr>\n",
       "    <tr>\n",
       "      <th>64</th>\n",
       "      <td>Other Miscellaneous Manufacturing</td>\n",
       "      <td>5</td>\n",
       "    </tr>\n",
       "    <tr>\n",
       "      <th>18</th>\n",
       "      <td>Consumer Goods Rental</td>\n",
       "      <td>5</td>\n",
       "    </tr>\n",
       "    <tr>\n",
       "      <th>59</th>\n",
       "      <td>Offices of Real Estate Agents and Brokers</td>\n",
       "      <td>5</td>\n",
       "    </tr>\n",
       "    <tr>\n",
       "      <th>21</th>\n",
       "      <td>Death Care Services</td>\n",
       "      <td>5</td>\n",
       "    </tr>\n",
       "    <tr>\n",
       "      <th>...</th>\n",
       "      <td>...</td>\n",
       "      <td>...</td>\n",
       "    </tr>\n",
       "    <tr>\n",
       "      <th>84</th>\n",
       "      <td>Sporting Goods, Hobby, and Musical Instrument ...</td>\n",
       "      <td>802</td>\n",
       "    </tr>\n",
       "    <tr>\n",
       "      <th>38</th>\n",
       "      <td>Grocery Stores</td>\n",
       "      <td>1041</td>\n",
       "    </tr>\n",
       "    <tr>\n",
       "      <th>60</th>\n",
       "      <td>Other Amusement and Recreation Industries</td>\n",
       "      <td>2279</td>\n",
       "    </tr>\n",
       "    <tr>\n",
       "      <th>53</th>\n",
       "      <td>Museums, Historical Sites, and Similar Institu...</td>\n",
       "      <td>4677</td>\n",
       "    </tr>\n",
       "    <tr>\n",
       "      <th>78</th>\n",
       "      <td>Restaurants and Other Eating Places</td>\n",
       "      <td>8766</td>\n",
       "    </tr>\n",
       "  </tbody>\n",
       "</table>\n",
       "<p>94 rows × 2 columns</p>\n",
       "</div>"
      ],
      "text/plain": [
       "                                         top_category  visits\n",
       "44  Household Appliances and Electrical and Electr...       5\n",
       "64                  Other Miscellaneous Manufacturing       5\n",
       "18                              Consumer Goods Rental       5\n",
       "59          Offices of Real Estate Agents and Brokers       5\n",
       "21                                Death Care Services       5\n",
       "..                                                ...     ...\n",
       "84  Sporting Goods, Hobby, and Musical Instrument ...     802\n",
       "38                                     Grocery Stores    1041\n",
       "60          Other Amusement and Recreation Industries    2279\n",
       "53  Museums, Historical Sites, and Similar Institu...    4677\n",
       "78                Restaurants and Other Eating Places    8766\n",
       "\n",
       "[94 rows x 2 columns]"
      ]
     },
     "execution_count": 148,
     "metadata": {},
     "output_type": "execute_result"
    }
   ],
   "source": [
    "df1_newyork_hotspots.groupby(['top_category']).sum().reset_index(drop=False).sort_values(\"visits\")"
   ]
  },
  {
   "cell_type": "code",
   "execution_count": 149,
   "metadata": {},
   "outputs": [
    {
     "data": {
      "text/html": [
       "<div>\n",
       "<style scoped>\n",
       "    .dataframe tbody tr th:only-of-type {\n",
       "        vertical-align: middle;\n",
       "    }\n",
       "\n",
       "    .dataframe tbody tr th {\n",
       "        vertical-align: top;\n",
       "    }\n",
       "\n",
       "    .dataframe thead th {\n",
       "        text-align: right;\n",
       "    }\n",
       "</style>\n",
       "<table border=\"1\" class=\"dataframe\">\n",
       "  <thead>\n",
       "    <tr style=\"text-align: right;\">\n",
       "      <th></th>\n",
       "      <th>top_category</th>\n",
       "      <th>visits</th>\n",
       "    </tr>\n",
       "  </thead>\n",
       "  <tbody>\n",
       "    <tr>\n",
       "      <th>58</th>\n",
       "      <td>Other Transit and Ground Passenger Transportation</td>\n",
       "      <td>5</td>\n",
       "    </tr>\n",
       "    <tr>\n",
       "      <th>18</th>\n",
       "      <td>Data Processing, Hosting, and Related Services</td>\n",
       "      <td>5</td>\n",
       "    </tr>\n",
       "    <tr>\n",
       "      <th>27</th>\n",
       "      <td>Employment Services</td>\n",
       "      <td>5</td>\n",
       "    </tr>\n",
       "    <tr>\n",
       "      <th>16</th>\n",
       "      <td>Commercial and Industrial Machinery and Equipm...</td>\n",
       "      <td>5</td>\n",
       "    </tr>\n",
       "    <tr>\n",
       "      <th>64</th>\n",
       "      <td>RV (Recreational Vehicle) Parks and Recreation...</td>\n",
       "      <td>5</td>\n",
       "    </tr>\n",
       "    <tr>\n",
       "      <th>...</th>\n",
       "      <td>...</td>\n",
       "      <td>...</td>\n",
       "    </tr>\n",
       "    <tr>\n",
       "      <th>36</th>\n",
       "      <td>Health and Personal Care Stores</td>\n",
       "      <td>303</td>\n",
       "    </tr>\n",
       "    <tr>\n",
       "      <th>35</th>\n",
       "      <td>Grocery Stores</td>\n",
       "      <td>512</td>\n",
       "    </tr>\n",
       "    <tr>\n",
       "      <th>52</th>\n",
       "      <td>Other Amusement and Recreation Industries</td>\n",
       "      <td>725</td>\n",
       "    </tr>\n",
       "    <tr>\n",
       "      <th>47</th>\n",
       "      <td>Museums, Historical Sites, and Similar Institu...</td>\n",
       "      <td>2439</td>\n",
       "    </tr>\n",
       "    <tr>\n",
       "      <th>67</th>\n",
       "      <td>Restaurants and Other Eating Places</td>\n",
       "      <td>2706</td>\n",
       "    </tr>\n",
       "  </tbody>\n",
       "</table>\n",
       "<p>79 rows × 2 columns</p>\n",
       "</div>"
      ],
      "text/plain": [
       "                                         top_category  visits\n",
       "58  Other Transit and Ground Passenger Transportation       5\n",
       "18     Data Processing, Hosting, and Related Services       5\n",
       "27                                Employment Services       5\n",
       "16  Commercial and Industrial Machinery and Equipm...       5\n",
       "64  RV (Recreational Vehicle) Parks and Recreation...       5\n",
       "..                                                ...     ...\n",
       "36                    Health and Personal Care Stores     303\n",
       "35                                     Grocery Stores     512\n",
       "52          Other Amusement and Recreation Industries     725\n",
       "47  Museums, Historical Sites, and Similar Institu...    2439\n",
       "67                Restaurants and Other Eating Places    2706\n",
       "\n",
       "[79 rows x 2 columns]"
      ]
     },
     "execution_count": 149,
     "metadata": {},
     "output_type": "execute_result"
    }
   ],
   "source": [
    "df2_newyork_hotspots.groupby(['top_category']).sum().reset_index(drop=False).sort_values(\"visits\")"
   ]
  },
  {
   "cell_type": "code",
   "execution_count": 130,
   "metadata": {},
   "outputs": [
    {
     "data": {
      "text/html": [
       "<div>\n",
       "<style scoped>\n",
       "    .dataframe tbody tr th:only-of-type {\n",
       "        vertical-align: middle;\n",
       "    }\n",
       "\n",
       "    .dataframe tbody tr th {\n",
       "        vertical-align: top;\n",
       "    }\n",
       "\n",
       "    .dataframe thead th {\n",
       "        text-align: right;\n",
       "    }\n",
       "</style>\n",
       "<table border=\"1\" class=\"dataframe\">\n",
       "  <thead>\n",
       "    <tr style=\"text-align: right;\">\n",
       "      <th></th>\n",
       "      <th>top_category</th>\n",
       "      <th>visits</th>\n",
       "    </tr>\n",
       "  </thead>\n",
       "  <tbody>\n",
       "    <tr>\n",
       "      <th>0</th>\n",
       "      <td>Traveler Accommodation</td>\n",
       "      <td>747</td>\n",
       "    </tr>\n",
       "  </tbody>\n",
       "</table>\n",
       "</div>"
      ],
      "text/plain": [
       "             top_category  visits\n",
       "0  Traveler Accommodation     747"
      ]
     },
     "execution_count": 130,
     "metadata": {},
     "output_type": "execute_result"
    }
   ],
   "source": [
    "df2_newyork_hotspots[df2_newyork_hotspots.top_category == 'Traveler Accommodation'].groupby(['top_category']).sum().reset_index(drop=False)"
   ]
  },
  {
   "cell_type": "code",
   "execution_count": 131,
   "metadata": {},
   "outputs": [
    {
     "data": {
      "text/html": [
       "<div>\n",
       "<style scoped>\n",
       "    .dataframe tbody tr th:only-of-type {\n",
       "        vertical-align: middle;\n",
       "    }\n",
       "\n",
       "    .dataframe tbody tr th {\n",
       "        vertical-align: top;\n",
       "    }\n",
       "\n",
       "    .dataframe thead th {\n",
       "        text-align: right;\n",
       "    }\n",
       "</style>\n",
       "<table border=\"1\" class=\"dataframe\">\n",
       "  <thead>\n",
       "    <tr style=\"text-align: right;\">\n",
       "      <th></th>\n",
       "      <th>top_category</th>\n",
       "      <th>visits</th>\n",
       "    </tr>\n",
       "  </thead>\n",
       "  <tbody>\n",
       "    <tr>\n",
       "      <th>0</th>\n",
       "      <td>Traveler Accommodation</td>\n",
       "      <td>2855</td>\n",
       "    </tr>\n",
       "  </tbody>\n",
       "</table>\n",
       "</div>"
      ],
      "text/plain": [
       "             top_category  visits\n",
       "0  Traveler Accommodation    2855"
      ]
     },
     "execution_count": 131,
     "metadata": {},
     "output_type": "execute_result"
    }
   ],
   "source": [
    "df1_newyork_hotspots[df1_newyork_hotspots.top_category == 'Traveler Accommodation'].groupby(['top_category']).sum().reset_index(drop=False)"
   ]
  },
  {
   "cell_type": "code",
   "execution_count": 12,
   "metadata": {},
   "outputs": [
    {
     "data": {
      "text/plain": [
       "3.0"
      ]
     },
     "execution_count": 12,
     "metadata": {},
     "output_type": "execute_result"
    }
   ],
   "source": [
    "np.linalg.norm(4-7)"
   ]
  },
  {
   "cell_type": "code",
   "execution_count": null,
   "metadata": {},
   "outputs": [],
   "source": []
  }
 ],
 "metadata": {
  "kernelspec": {
   "display_name": "Python 3",
   "language": "python",
   "name": "python3"
  },
  "language_info": {
   "codemirror_mode": {
    "name": "ipython",
    "version": 3
   },
   "file_extension": ".py",
   "mimetype": "text/x-python",
   "name": "python",
   "nbconvert_exporter": "python",
   "pygments_lexer": "ipython3",
   "version": "3.6.10"
  }
 },
 "nbformat": 4,
 "nbformat_minor": 2
}
